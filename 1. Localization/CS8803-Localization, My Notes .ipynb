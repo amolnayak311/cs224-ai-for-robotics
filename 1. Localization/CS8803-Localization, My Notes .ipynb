{
 "cells": [
  {
   "cell_type": "markdown",
   "metadata": {},
   "source": [
    "## Localization\n",
    "\n",
    "In this notebook we will understand the concept of localization. These notes are prepared while I took the [cs373](https://www.udacity.com/course/artificial-intelligence-for-robotics--cs373) course on Udacity\n",
    "\n",
    "---\n",
    "\n",
    "Informal definition of Localization is about knowing where the Robot/Autonomous vehicle is in the given terrain/map accurately. GPS has a way to tell us where we are, however, the accuracy if off by meters most of the times. For autonomous vehicles knowing the location to centimeter accuracy is crucial to stay within the lanes (in case of self driving cars) even if no markings are present.\n",
    "\n",
    "\n",
    "Lets take a brief look at what exactly is the localization and what math is involved in it. We will look at the same diagrams as the ones in the lecture.\n",
    "\n",
    "---\n",
    "\n",
    "1. Assume that we have a map in one dimension (we can move right or left) and the robot has no clue where it is at the moment. The probability at this point is same for each location in the map. That is, the probability of Robot being present at a location is uniformly distributed over the entire map region and the probability distribution would look like the following.\n",
    "\n",
    "![prior](Prior.png)\n",
    "\n",
    "2. Assume the map has three doors and the robot can detect a door and non door area in front of it. Given that the robot senses there is a door in front of it (which can have an error in detection), the probability distribution of the robot's location changes to the following\n",
    "\n",
    "![posterior](Posterior.png)\n",
    "\n",
    "3. Notice how we have three peaks in front of the doors. At this stage the probability of the robot being in front of these three doors is same. Since we have errors in the sensors, there is a small residual probability in other regions as well. \n",
    "\n",
    "4. The robot can move in the right or left direction and assuming it knows where it moves, the probability distribution for the robot's current location shifts as the robot moves as we see below\n",
    "\n",
    "![posterior2](Posterior2.png)\n",
    "\n",
    "5. Now with the new information that the root sees another door in front of it, the probability distribution changes as follows. \n",
    "\n",
    "![posterior3](Posterior3.png)\n",
    "\n",
    "Notice how the posterior of the previous state becomes the prior for this new state. Thus as and how the robot moves and sees/senses new information and **given that the map is available with the robot**, the robot can continue to accurately detect its current location.\n",
    "\n",
    "---\n",
    "\n",
    "Lets look at a problem as follows write a program which will compute the probability of the robot being in front of the given colored grid, given it sees a grid's color.\n",
    "\n",
    "The grid looks as follows.\n",
    "\n",
    "![grid](Grids.png)\n",
    "\n",
    "\n",
    "- Lets assume we have equal likelyhood of being in front of any grid initially\n",
    "- Assume the probability the robot will sense the grid as red, given the grid if red is 0.6, we call this ``pHit``\n",
    "- Assume the probability the robot will not sense the grid as red, given the grid if red is 0.2, we call this ``pMiss``\n",
    "- Now given the fact the robot sees red, lets compute the probability the robot is standing in front of a given cell in the grid\n"
   ]
  },
  {
   "cell_type": "code",
   "execution_count": 1,
   "metadata": {},
   "outputs": [
    {
     "name": "stdout",
     "output_type": "stream",
     "text": [
      "[0.1111111111111111, 0.3333333333333332, 0.3333333333333332, 0.1111111111111111, 0.1111111111111111]\n"
     ]
    }
   ],
   "source": [
    "p = [0.2, 0.2, 0.2, 0.2, 0.2]\n",
    "world = ['green', 'red', 'red', 'green', 'green']\n",
    "Z = 'red'\n",
    "pHit = 0.6\n",
    "pMiss = 0.2\n",
    "\n",
    "def sense(p, Z, world, pHit, pMiss):\n",
    "    q = [p[i] * pHit if Z == world[i] else p[i] * pMiss for i in range(len(p))]        \n",
    "    s = sum(q)\n",
    "    return [q[i] / s for i in range(len(q))]\n",
    "\n",
    "print(sense(p,Z, world, pHit, pMiss))"
   ]
  },
  {
   "cell_type": "markdown",
   "metadata": {},
   "source": [
    "---\n",
    "\n",
    "As we see above, the probability we are in front of a cell in red is 3 times as much as the probability we are in front of any other cell\n",
    "\n",
    "Let us now see how we would have solved the above problem using [Bayes Rule](https://en.wikipedia.org/wiki/Bayes%27_theorem) and get the same answer.\n",
    "\n",
    "Bayes Theorem states that $P(A \\mid B)$ = $P(B \\mid A) \\cdot P(A) / P(B)$\n",
    "\n",
    "\n",
    "Looking at the above diagram, we see there are 2 reds out of 5. Thus we can say the following\n",
    "\n",
    "$P(R) = 2 / 5 = 0.4$\n",
    "\n",
    "$P(G) = 3 / 5 = 0.6$\n",
    "\n",
    "We now know two things, the probability the sensir will sense red, given its red, and, the probability the Sensor will sense red when the color ahead is not Red (false positives). Lets write them down\n",
    "\n",
    "$P(S_r \\mid R) = 0.6$\n",
    "\n",
    "$P(S_r \\mid \\neg R) = 0.2$\n",
    "\n",
    "\n",
    "As per Bayes Rule the color is Red, given the sensor senses Red\n",
    "\n",
    "$P(R \\mid S_r) = P(S_r | R) \\cdot P(R) / P(S_r)$\n",
    "\n",
    "$P(S_r) = P(S_r \\mid R) \\cdot P(R) + P(S_r \\mid \\neg R) \\cdot P(\\neg R) = 0.6 \\cdot 0.4 + 0.2 \\cdot 0.6 = 0.36$\n",
    "\n",
    "$P(S_r \\mid R) \\cdot P(R) = 0.4 \\cdot 0.6 = 0.24$\n",
    "\n",
    "\n",
    "Thus $P(R \\mid S_r) = 0.24 / 0.36 = 0.66667$\n",
    "\n",
    "Since its equaly likely to be in front of any Reds, the probability that we are in front of one of these is $0.666 / 2 = 0.333$\n",
    "\n",
    "Similarly, $P(G) = 1 - P(R) = 1 - 0.666  = 0.333$\n",
    "\n",
    "Since ots equaly likely to be in front of any of the three green slots, the probability we are in front of one of them is $0.666 / 3 = 0.111$\n",
    "\n",
    "\n",
    "These are the numbers we got in the program above.\n",
    "\n",
    "---\n",
    "\n",
    "## Robot Motion\n",
    "\n",
    "Lets talk about Robot motion. Lets assume, we have cells and the robot moves exactly one cell at a time to the right. Assuming the cells are cyclic (such that what exits the right enters from left), each time a robot moves to its right by exactly one cell with 100% proability, the probabilities also shift right with the robot\n",
    "\n",
    "Thus say we have the following set of probablities for the 5 slots\n",
    "\n",
    "$\\mid 0.11 \\mid 0.33 \\mid 0.33 \\mid 0.11 \\mid 0.11 \\mid$\n",
    "\n",
    "Assuming the robot moves to its right, the new set of probabilities where the robot is right now becomes\n",
    "\n",
    "$\\mid 0.11 \\mid 0.11 \\mid 0.33 \\mid 0.33 \\mid 0.11 \\mid$\n",
    "\n",
    "Notice how the probabilities are shifted to right.\n",
    "\n",
    "\n",
    "Lets now code this function ``move`` which takes two arguments, \n",
    "\n",
    "- ``p:`` The prior probabilities\n",
    "- ``u:`` The blocks to shift by, if positive, shift right else left\n"
   ]
  },
  {
   "cell_type": "code",
   "execution_count": 2,
   "metadata": {
    "collapsed": true
   },
   "outputs": [],
   "source": [
    "def move(p, U):\n",
    "    l = len(p)\n",
    "    return [p[(i - U) % l] for i in range(l)]\n"
   ]
  },
  {
   "cell_type": "markdown",
   "metadata": {},
   "source": [
    "Lets test this function for a sample input"
   ]
  },
  {
   "cell_type": "code",
   "execution_count": 3,
   "metadata": {},
   "outputs": [
    {
     "name": "stdout",
     "output_type": "stream",
     "text": [
      "p is  [0, 1, 0, 0, 0, 0]\n",
      "Moving p with u = 1 gives  [0, 0, 1, 0, 0, 0]\n",
      "Moving p with u = -1 gives  [1, 0, 0, 0, 0, 0]\n"
     ]
    }
   ],
   "source": [
    "s_p = [0, 1, 0, 0, 0, 0]\n",
    "print('p is ', s_p)\n",
    "print('Moving p with u = 1 gives ', move(s_p, 1))\n",
    "print('Moving p with u = -1 gives ', move(s_p, -1))"
   ]
  },
  {
   "cell_type": "markdown",
   "metadata": {},
   "source": [
    "We will now look at inaccurate motion for robots.\n",
    "\n",
    "Suppose, the accuracy that the robot will move to its right is not 100% but, it fall short by one or overshoot the target by 1 with 10% accuracy and with 80% accuracy the robot will land in the desired slot.\n",
    "\n",
    "Lets illustrate it as follows, let following be the probability of the Robit's initial position\n",
    "\n",
    "$\\mid 0 \\mid 1 \\mid 0 \\mid 0 \\mid 0 \\mid$\n",
    "\n",
    "Suppose we want to move by 1, which means the robot moves by 2 (1 + 1) slots and stays in the current slot(1 -1) with 10% probability each. This the new probability distribution for the robot's current location becomes\n",
    "\n",
    "$\\mid 0 \\mid 0.1 \\mid 0.8 \\mid 0.1 \\mid 0 \\mid$\n",
    "\n",
    "\n",
    "Let us now incorporate this in the ``move`` function and update its implementation."
   ]
  },
  {
   "cell_type": "code",
   "execution_count": 4,
   "metadata": {
    "collapsed": true
   },
   "outputs": [],
   "source": [
    "def move(p, U, pExact = 1, pOvershoot = 0):\n",
    "    pUndershoot = 1 - pExact - pOvershoot\n",
    "    l = len(p)    \n",
    "    q = []\n",
    "    for i in range(l):\n",
    "        tprob = pExact * p[(i-U) % len(p)] +\\\n",
    "                pOvershoot * p[(i-U-1) % len(p)] +\\\n",
    "                pUndershoot * p[(i-U+1) % len(p)]\n",
    "        q.append(tprob)\n",
    "\n",
    "    return q"
   ]
  },
  {
   "cell_type": "code",
   "execution_count": 5,
   "metadata": {},
   "outputs": [
    {
     "name": "stdout",
     "output_type": "stream",
     "text": [
      "Move with pExact: 1 and pOvershoot: 0 gives  [0, 0, 1, 0, 0]\n",
      "Move with pExact: 0.8 and pOvershoot: 0.1 gives  [0.0, 0.09999999999999995, 0.8, 0.1, 0.0]\n"
     ]
    }
   ],
   "source": [
    "p = [0, 1, 0, 0, 0]\n",
    "print('Move with pExact: 1 and pOvershoot: 0 gives ', move(p, 1))\n",
    "print('Move with pExact: 0.8 and pOvershoot: 0.1 gives ', move(p, 1, 0.8, 0.1))"
   ]
  },
  {
   "cell_type": "markdown",
   "metadata": {},
   "source": [
    "Let us try to move twice, one step at a time"
   ]
  },
  {
   "cell_type": "code",
   "execution_count": 6,
   "metadata": {},
   "outputs": [
    {
     "name": "stdout",
     "output_type": "stream",
     "text": [
      "Move twice with pExact: 0.8 and pOvershoot: 0.1 gives\n",
      " [0.010000000000000002, 0.00999999999999999, 0.15999999999999992, 0.6600000000000001, 0.16000000000000003]\n"
     ]
    }
   ],
   "source": [
    "p = [0, 1, 0, 0, 0]\n",
    "print('Move twice with pExact: 0.8 and pOvershoot: 0.1 gives\\n', move(move(p, 1, 0.8, 0.1), 1, 0.8, 0.1))"
   ]
  },
  {
   "cell_type": "markdown",
   "metadata": {},
   "source": [
    "As we see above, the probability that we are in the $4^{th}$ cell is highest as expected. But, if we keep moving a large number of times with the same probability of ``pExact``, ``pOvershoot`` and ``pUndershoot``, we then end up with a uniform probability distribution.\n",
    "\n",
    "Lets write a small code to demonstrate this purpose (Recursive version will evantually fail with stack overflow).\n"
   ]
  },
  {
   "cell_type": "code",
   "execution_count": 7,
   "metadata": {},
   "outputs": [
    {
     "name": "stdout",
     "output_type": "stream",
     "text": [
      "After moving 800 times, the probability distribution of the robots position is\n",
      " [0.20000000000000084, 0.20000000000000095, 0.20000000000000084, 0.2000000000000006, 0.20000000000000062]\n"
     ]
    }
   ],
   "source": [
    "def moveNTimes(p, step_size, times, pExact = 1, pOvershoot = 0):\n",
    "    return p if times == 0 else moveNTimes(move(p, step_size, pExact, pOvershoot), step_size, times - 1, pExact, pOvershoot)\n",
    "\n",
    "print('After moving 800 times, the probability distribution of the robots position is\\n',moveNTimes(p, 1, 800, 0.8, 0.1))"
   ]
  },
  {
   "cell_type": "markdown",
   "metadata": {},
   "source": [
    "---\n",
    "### Putting it all together\n",
    "\n",
    "Let us now try something interesting. If we look at the grid the second and third cells are Red, remaining are green. We will now start with a uniform probability distribution and invoke sense and move in an alternate fashion. We will then see what do we get for the probability of our current location"
   ]
  },
  {
   "cell_type": "code",
   "execution_count": 8,
   "metadata": {},
   "outputs": [
    {
     "name": "stdout",
     "output_type": "stream",
     "text": [
      "[0.21157894736842106, 0.1515789473684211, 0.08105263157894738, 0.16842105263157894, 0.3873684210526316]\n"
     ]
    }
   ],
   "source": [
    "p = [0.2] * 5   #Uniform probability\n",
    "world = ['green', 'red', 'red', 'green', 'green'] #Our map and the colors in it\n",
    "observed = ['red', 'green'] #We observe, move and then observe Green\n",
    "step_size = 1  #Move to right by one \n",
    "pExact = 0.8 #Probability that our robot moves by the given step_size\n",
    "pOvershoot = 0.1\n",
    "pHit = 0.6    # Probability that our sensor sees color X, given that the color is X\n",
    "pMiss = 0.2   # Probability that our sensor sees color X, given that the color is not X\n",
    "\n",
    "for i in range(len(observed)):\n",
    "    p = sense(p, observed[i], world, pHit, pMiss)\n",
    "    p = move(p, step_size, pExact, pOvershoot)\n",
    "    \n",
    "print(p)"
   ]
  },
  {
   "cell_type": "markdown",
   "metadata": {},
   "source": [
    "\n",
    "Looking at the world and see the following sequence of events\n",
    "\n",
    "* Robot sees Red\n",
    "* Move right by 1\n",
    "* Robot sees Green\n",
    "* Move right by 1 \n",
    "\n",
    "Can only happen if the robot initially was at cell 3 and would eventually end up in cell 5. The probability distribution we see above shows maximum probability of the robot being in cell 5.\n",
    "\n",
    "We will try two more cases.\n",
    "\n",
    "* Robot sees Red\n",
    "* Move right by 1\n",
    "* Robot sees Red again\n",
    "* Move right by 1 \n",
    "\n",
    "In this case, the robot should end up in cell 4.\n",
    "\n",
    "We will also try the above code in ideal world where the sensors and robot movement is 100% accurate"
   ]
  },
  {
   "cell_type": "code",
   "execution_count": 9,
   "metadata": {},
   "outputs": [
    {
     "name": "stdout",
     "output_type": "stream",
     "text": [
      "[0.0788235294117647, 0.07529411764705882, 0.22470588235294114, 0.4329411764705882, 0.18823529411764706]\n"
     ]
    }
   ],
   "source": [
    "#All parameters same as above except the following\n",
    "p = [0.2] * 5   #Uniform probability\n",
    "observed = ['red', 'red']\n",
    "for i in range(len(observed)):\n",
    "    p = sense(p, observed[i], world, pHit, pMiss)\n",
    "    p = move(p, step_size, pExact, pOvershoot)\n",
    "    \n",
    "print(p)"
   ]
  },
  {
   "cell_type": "code",
   "execution_count": 10,
   "metadata": {},
   "outputs": [
    {
     "name": "stdout",
     "output_type": "stream",
     "text": [
      "[0.0, 0.0, 0.0, 1.0, 0.0]\n"
     ]
    }
   ],
   "source": [
    "p = [0.2] * 5   #Uniform probability\n",
    "pExact = 1 #Probability that our robot moves by the given step_size\n",
    "pOvershoot = 0\n",
    "pHit = 1    # Probability that our sensor sees color X, given that the color is X\n",
    "pMiss = 0\n",
    "for i in range(len(observed)):\n",
    "    p = sense(p, observed[i], world, pHit, pMiss)\n",
    "    p = move(p, step_size, pExact, pOvershoot)\n",
    "    \n",
    "print(p)"
   ]
  },
  {
   "cell_type": "markdown",
   "metadata": {},
   "source": [
    "Above two cases, both shows high probability for the robot being in cell 4. However, the accuracy of the sensor and robot motion determines the confidence of the prediction."
   ]
  },
  {
   "cell_type": "code",
   "execution_count": null,
   "metadata": {
    "collapsed": true
   },
   "outputs": [],
   "source": []
  }
 ],
 "metadata": {
  "kernelspec": {
   "display_name": "Python 3",
   "language": "python",
   "name": "python3"
  },
  "language_info": {
   "codemirror_mode": {
    "name": "ipython",
    "version": 3
   },
   "file_extension": ".py",
   "mimetype": "text/x-python",
   "name": "python",
   "nbconvert_exporter": "python",
   "pygments_lexer": "ipython3",
   "version": "3.6.1"
  }
 },
 "nbformat": 4,
 "nbformat_minor": 2
}
